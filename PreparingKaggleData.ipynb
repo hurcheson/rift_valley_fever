{
 "cells": [
  {
   "cell_type": "code",
   "execution_count": 1,
   "id": "72d9e0d0-654d-41a9-a663-e50c54bc6fa0",
   "metadata": {},
   "outputs": [],
   "source": [
    "# Import libraries\n",
    "import pandas as pd"
   ]
  },
  {
   "cell_type": "code",
   "execution_count": 2,
   "id": "e0d5215f-517b-42b0-959e-2318fc3f2190",
   "metadata": {},
   "outputs": [],
   "source": [
    "# Load the dataset\n",
    "data = pd.read_csv('data/rvf_data.csv')"
   ]
  },
  {
   "cell_type": "code",
   "execution_count": 3,
   "id": "72ab6995-e0aa-4c32-9025-894390b356eb",
   "metadata": {},
   "outputs": [
    {
     "name": "stdout",
     "output_type": "stream",
     "text": [
      "<class 'pandas.core.frame.DataFrame'>\n",
      "RangeIndex: 180288 entries, 0 to 180287\n",
      "Data columns (total 12 columns):\n",
      " #   Column             Non-Null Count   Dtype  \n",
      "---  ------             --------------   -----  \n",
      " 0   divid              180288 non-null  int64  \n",
      " 1   province           180288 non-null  object \n",
      " 2   district           180288 non-null  object \n",
      " 3   division           180288 non-null  object \n",
      " 4   Year               180288 non-null  int64  \n",
      " 5   month              180288 non-null  object \n",
      " 6   rainfall           180288 non-null  float64\n",
      " 7   elevation          180288 non-null  float64\n",
      " 8   slope              180288 non-null  float64\n",
      " 9   clay               180288 non-null  float64\n",
      " 10  humidity           180288 non-null  float64\n",
      " 11  Rift Valley Cases  180288 non-null  int64  \n",
      "dtypes: float64(5), int64(3), object(4)\n",
      "memory usage: 16.5+ MB\n"
     ]
    },
    {
     "data": {
      "text/plain": [
       "(None,\n",
       "    divid province district division  Year      month  rainfall    elevation  \\\n",
       " 0  30402    COAST  MOMBASA  KISAUNI  1981   November -0.424976    19.250099   \n",
       " 1  30402    COAST  MOMBASA  KISAUNI  1981     August  2.004479    19.250099   \n",
       " 2  40415  EASTERN  MAKUENI  KIBWEZI  1981  September -0.365544   795.179020   \n",
       " 3  40415  EASTERN  MAKUENI  KIBWEZI  1981     August  0.162332   795.179020   \n",
       " 4  40410  EASTERN  MAKUENI     WOTE  1981    October  0.186819  1106.939900   \n",
       " \n",
       "        slope       clay   humidity  Rift Valley Cases  \n",
       " 0  89.911404  25.494737  74.000000                  1  \n",
       " 1  89.911404  25.494737  74.000000                  1  \n",
       " 2  89.959977  28.947223  60.012926                  1  \n",
       " 3  89.959977  28.947223  60.012926                  1  \n",
       " 4  89.964235  29.743371  60.762669                  1  ,\n",
       " (180288, 12))"
      ]
     },
     "execution_count": 3,
     "metadata": {},
     "output_type": "execute_result"
    }
   ],
   "source": [
    "# Display basic information\n",
    "data_info = data.info()\n",
    "data_preview = data.head()\n",
    "data_shape = data.shape\n",
    "data_info, data_preview, data_shape"
   ]
  },
  {
   "cell_type": "markdown",
   "id": "ad6e5a3b-e9ec-4ef2-a9b8-5d8fb7c5a00b",
   "metadata": {},
   "source": [
    "# 1. Data Cleaning"
   ]
  },
  {
   "cell_type": "code",
   "execution_count": 5,
   "id": "3b2baefa-dd41-43c1-95b6-2a44ffec9527",
   "metadata": {},
   "outputs": [
    {
     "data": {
      "text/plain": [
       "0"
      ]
     },
     "execution_count": 5,
     "metadata": {},
     "output_type": "execute_result"
    }
   ],
   "source": [
    "# Check for duplicates\n",
    "duplicates = data.duplicated().sum()\n",
    "duplicates"
   ]
  },
  {
   "cell_type": "code",
   "execution_count": 6,
   "id": "b9cd2073-1626-4aca-b7c4-7f4f2b291b2b",
   "metadata": {},
   "outputs": [
    {
     "data": {
      "text/plain": [
       "(68312, 12)"
      ]
     },
     "execution_count": 6,
     "metadata": {},
     "output_type": "execute_result"
    }
   ],
   "source": [
    "# Dropping negative readings of rainfall & humidity and non-rift valley fever\n",
    "data = (data[(data['rainfall'] >= 0) & \n",
    "        (data['humidity'] > 0) & \n",
    "        (data['Rift Valley Cases'] >= 0)])\n",
    "data.shape"
   ]
  },
  {
   "cell_type": "markdown",
   "id": "789df580-cc90-430e-bfd6-4ea2147d8ab1",
   "metadata": {},
   "source": [
    "# 2. Aggregation"
   ]
  },
  {
   "cell_type": "code",
   "execution_count": 8,
   "id": "28367ff5-b2f5-4154-9f1b-1e856af397d8",
   "metadata": {},
   "outputs": [],
   "source": [
    "# Group by province, year, and month\n",
    "aggregated_data = data.groupby(\n",
    "    [\n",
    "        'province',\n",
    "        'district',\n",
    "        'division',\n",
    "        'Year',\n",
    "        'month'\n",
    "    ]\n",
    ").agg(\n",
    "    avg_rainfall = ('rainfall', 'mean'),\n",
    "    avg_humidity = ('humidity', 'mean'),\n",
    "    total_cases = ('Rift Valley Cases', 'sum')\n",
    ").reset_index()"
   ]
  },
  {
   "cell_type": "code",
   "execution_count": 9,
   "id": "9c09121a-d3de-4a4c-a66a-0b62a8184358",
   "metadata": {},
   "outputs": [
    {
     "name": "stdout",
     "output_type": "stream",
     "text": [
      "\n",
      "Aggregated Data:\n",
      "  province district    division  Year   month  avg_rainfall  avg_humidity  \\\n",
      "0  CENTRAL   KIAMBU  GITHUNGURI  1981   April      1.593538     68.860373   \n",
      "1  CENTRAL   KIAMBU  GITHUNGURI  1981  August      0.137449     68.860373   \n",
      "2  CENTRAL   KIAMBU  GITHUNGURI  1981    July      0.557422     68.860373   \n",
      "3  CENTRAL   KIAMBU  GITHUNGURI  1981   March      1.465576     68.860373   \n",
      "4  CENTRAL   KIAMBU  GITHUNGURI  1981     May      0.586008     68.860373   \n",
      "\n",
      "   total_cases  \n",
      "0            0  \n",
      "1            0  \n",
      "2            0  \n",
      "3            0  \n",
      "4            0  \n"
     ]
    }
   ],
   "source": [
    "# Display the aggregated data\n",
    "print(\"\\nAggregated Data:\")\n",
    "print(aggregated_data.head())"
   ]
  },
  {
   "cell_type": "code",
   "execution_count": 10,
   "id": "f6d5f988-ba4e-4385-b9bc-139b4b8e679b",
   "metadata": {},
   "outputs": [
    {
     "data": {
      "text/html": [
       "<div>\n",
       "<style scoped>\n",
       "    .dataframe tbody tr th:only-of-type {\n",
       "        vertical-align: middle;\n",
       "    }\n",
       "\n",
       "    .dataframe tbody tr th {\n",
       "        vertical-align: top;\n",
       "    }\n",
       "\n",
       "    .dataframe thead th {\n",
       "        text-align: right;\n",
       "    }\n",
       "</style>\n",
       "<table border=\"1\" class=\"dataframe\">\n",
       "  <thead>\n",
       "    <tr style=\"text-align: right;\">\n",
       "      <th></th>\n",
       "      <th>province</th>\n",
       "      <th>district</th>\n",
       "      <th>division</th>\n",
       "      <th>Year</th>\n",
       "      <th>month</th>\n",
       "      <th>avg_rainfall</th>\n",
       "      <th>avg_humidity</th>\n",
       "      <th>total_cases</th>\n",
       "    </tr>\n",
       "  </thead>\n",
       "  <tbody>\n",
       "    <tr>\n",
       "      <th>0</th>\n",
       "      <td>CENTRAL</td>\n",
       "      <td>KIAMBU</td>\n",
       "      <td>GITHUNGURI</td>\n",
       "      <td>1981</td>\n",
       "      <td>April</td>\n",
       "      <td>1.593538</td>\n",
       "      <td>68.860373</td>\n",
       "      <td>0</td>\n",
       "    </tr>\n",
       "    <tr>\n",
       "      <th>1</th>\n",
       "      <td>CENTRAL</td>\n",
       "      <td>KIAMBU</td>\n",
       "      <td>GITHUNGURI</td>\n",
       "      <td>1981</td>\n",
       "      <td>August</td>\n",
       "      <td>0.137449</td>\n",
       "      <td>68.860373</td>\n",
       "      <td>0</td>\n",
       "    </tr>\n",
       "    <tr>\n",
       "      <th>2</th>\n",
       "      <td>CENTRAL</td>\n",
       "      <td>KIAMBU</td>\n",
       "      <td>GITHUNGURI</td>\n",
       "      <td>1981</td>\n",
       "      <td>July</td>\n",
       "      <td>0.557422</td>\n",
       "      <td>68.860373</td>\n",
       "      <td>0</td>\n",
       "    </tr>\n",
       "    <tr>\n",
       "      <th>3</th>\n",
       "      <td>CENTRAL</td>\n",
       "      <td>KIAMBU</td>\n",
       "      <td>GITHUNGURI</td>\n",
       "      <td>1981</td>\n",
       "      <td>March</td>\n",
       "      <td>1.465576</td>\n",
       "      <td>68.860373</td>\n",
       "      <td>0</td>\n",
       "    </tr>\n",
       "    <tr>\n",
       "      <th>4</th>\n",
       "      <td>CENTRAL</td>\n",
       "      <td>KIAMBU</td>\n",
       "      <td>GITHUNGURI</td>\n",
       "      <td>1981</td>\n",
       "      <td>May</td>\n",
       "      <td>0.586008</td>\n",
       "      <td>68.860373</td>\n",
       "      <td>0</td>\n",
       "    </tr>\n",
       "  </tbody>\n",
       "</table>\n",
       "</div>"
      ],
      "text/plain": [
       "  province district    division  Year   month  avg_rainfall  avg_humidity  \\\n",
       "0  CENTRAL   KIAMBU  GITHUNGURI  1981   April      1.593538     68.860373   \n",
       "1  CENTRAL   KIAMBU  GITHUNGURI  1981  August      0.137449     68.860373   \n",
       "2  CENTRAL   KIAMBU  GITHUNGURI  1981    July      0.557422     68.860373   \n",
       "3  CENTRAL   KIAMBU  GITHUNGURI  1981   March      1.465576     68.860373   \n",
       "4  CENTRAL   KIAMBU  GITHUNGURI  1981     May      0.586008     68.860373   \n",
       "\n",
       "   total_cases  \n",
       "0            0  \n",
       "1            0  \n",
       "2            0  \n",
       "3            0  \n",
       "4            0  "
      ]
     },
     "execution_count": 10,
     "metadata": {},
     "output_type": "execute_result"
    }
   ],
   "source": [
    "# Shape after aggregation\n",
    "aggregated_data.head()"
   ]
  },
  {
   "cell_type": "code",
   "execution_count": 12,
   "id": "240a4613-82b4-4d6a-a735-89c628d20230",
   "metadata": {},
   "outputs": [],
   "source": [
    "# Save the Processed Data\n",
    "output_file_path = 'processed_rvf_data.csv'\n",
    "aggregated_data.to_csv(output_file_path, index=False)"
   ]
  },
  {
   "cell_type": "code",
   "execution_count": null,
   "id": "d6c9ffe0-3dc0-4d51-a295-20eaefba3391",
   "metadata": {},
   "outputs": [],
   "source": []
  }
 ],
 "metadata": {
  "kernelspec": {
   "display_name": "Python [conda env:base] *",
   "language": "python",
   "name": "conda-base-py"
  },
  "language_info": {
   "codemirror_mode": {
    "name": "ipython",
    "version": 3
   },
   "file_extension": ".py",
   "mimetype": "text/x-python",
   "name": "python",
   "nbconvert_exporter": "python",
   "pygments_lexer": "ipython3",
   "version": "3.12.7"
  }
 },
 "nbformat": 4,
 "nbformat_minor": 5
}
