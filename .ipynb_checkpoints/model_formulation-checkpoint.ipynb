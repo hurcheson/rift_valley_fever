{
 "cells": [
  {
   "cell_type": "code",
   "execution_count": 1,
   "id": "4b3d13b5-d3e0-4fff-b3fe-7f1a7847e3ad",
   "metadata": {
    "editable": true,
    "slideshow": {
     "slide_type": ""
    },
    "tags": []
   },
   "outputs": [],
   "source": [
    "# import libraries\n",
    "import numpy as np\n",
    "import pandas as pd\n",
    "from scipy.integrate import odeint\n",
    "import matplotlib.pyplot as plt"
   ]
  },
  {
   "cell_type": "code",
   "execution_count": 2,
   "id": "e9cc7cce-6407-4de7-91c7-3eaedb122b44",
   "metadata": {},
   "outputs": [
    {
     "data": {
      "text/html": [
       "<div>\n",
       "<style scoped>\n",
       "    .dataframe tbody tr th:only-of-type {\n",
       "        vertical-align: middle;\n",
       "    }\n",
       "\n",
       "    .dataframe tbody tr th {\n",
       "        vertical-align: top;\n",
       "    }\n",
       "\n",
       "    .dataframe thead th {\n",
       "        text-align: right;\n",
       "    }\n",
       "</style>\n",
       "<table border=\"1\" class=\"dataframe\">\n",
       "  <thead>\n",
       "    <tr style=\"text-align: right;\">\n",
       "      <th></th>\n",
       "      <th>province</th>\n",
       "      <th>district</th>\n",
       "      <th>division</th>\n",
       "      <th>Year</th>\n",
       "      <th>month</th>\n",
       "      <th>avg_rainfall</th>\n",
       "      <th>avg_humidity</th>\n",
       "      <th>total_cases</th>\n",
       "    </tr>\n",
       "  </thead>\n",
       "  <tbody>\n",
       "    <tr>\n",
       "      <th>0</th>\n",
       "      <td>CENTRAL</td>\n",
       "      <td>KIAMBU</td>\n",
       "      <td>GITHUNGURI</td>\n",
       "      <td>1981</td>\n",
       "      <td>April</td>\n",
       "      <td>1.593538</td>\n",
       "      <td>68.860373</td>\n",
       "      <td>0</td>\n",
       "    </tr>\n",
       "    <tr>\n",
       "      <th>1</th>\n",
       "      <td>CENTRAL</td>\n",
       "      <td>KIAMBU</td>\n",
       "      <td>GITHUNGURI</td>\n",
       "      <td>1981</td>\n",
       "      <td>August</td>\n",
       "      <td>0.137449</td>\n",
       "      <td>68.860373</td>\n",
       "      <td>0</td>\n",
       "    </tr>\n",
       "    <tr>\n",
       "      <th>2</th>\n",
       "      <td>CENTRAL</td>\n",
       "      <td>KIAMBU</td>\n",
       "      <td>GITHUNGURI</td>\n",
       "      <td>1981</td>\n",
       "      <td>July</td>\n",
       "      <td>0.557422</td>\n",
       "      <td>68.860373</td>\n",
       "      <td>0</td>\n",
       "    </tr>\n",
       "    <tr>\n",
       "      <th>3</th>\n",
       "      <td>CENTRAL</td>\n",
       "      <td>KIAMBU</td>\n",
       "      <td>GITHUNGURI</td>\n",
       "      <td>1981</td>\n",
       "      <td>March</td>\n",
       "      <td>1.465576</td>\n",
       "      <td>68.860373</td>\n",
       "      <td>0</td>\n",
       "    </tr>\n",
       "    <tr>\n",
       "      <th>4</th>\n",
       "      <td>CENTRAL</td>\n",
       "      <td>KIAMBU</td>\n",
       "      <td>GITHUNGURI</td>\n",
       "      <td>1981</td>\n",
       "      <td>May</td>\n",
       "      <td>0.586008</td>\n",
       "      <td>68.860373</td>\n",
       "      <td>0</td>\n",
       "    </tr>\n",
       "  </tbody>\n",
       "</table>\n",
       "</div>"
      ],
      "text/plain": [
       "  province district    division  Year   month  avg_rainfall  avg_humidity  \\\n",
       "0  CENTRAL   KIAMBU  GITHUNGURI  1981   April      1.593538     68.860373   \n",
       "1  CENTRAL   KIAMBU  GITHUNGURI  1981  August      0.137449     68.860373   \n",
       "2  CENTRAL   KIAMBU  GITHUNGURI  1981    July      0.557422     68.860373   \n",
       "3  CENTRAL   KIAMBU  GITHUNGURI  1981   March      1.465576     68.860373   \n",
       "4  CENTRAL   KIAMBU  GITHUNGURI  1981     May      0.586008     68.860373   \n",
       "\n",
       "   total_cases  \n",
       "0            0  \n",
       "1            0  \n",
       "2            0  \n",
       "3            0  \n",
       "4            0  "
      ]
     },
     "execution_count": 2,
     "metadata": {},
     "output_type": "execute_result"
    }
   ],
   "source": [
    "# Load dataset\n",
    "data = pd.read_csv('processed_rvf_data.csv')\n",
    "data.head()"
   ]
  },
  {
   "cell_type": "code",
   "execution_count": 10,
   "id": "b88d24b2-4e0e-4c3f-9083-ec271dd57d2d",
   "metadata": {},
   "outputs": [],
   "source": [
    "# Define a function to interpolate environmental factors\n",
    "def interpolate_env(t, column, province, year, data):\n",
    "    \"\"\"\n",
    "    Interpolates environmental factors(e.g., avg_rainfall, avg_humidity)\n",
    "    based on the current time step, location, and year.\n",
    "    \"\"\"\n",
    "    # Ensure time matches the monthly data (assume 30 days per month)\n",
    "    month_index = int(t // 30) & 12\n",
    "    month_names = [\n",
    "        \"January\", \"February\", \"March\", \"April\", \"May\", \"June\",\n",
    "        \"July\", \"August\", \"September\", \"October\", \"November\", \"December\"\n",
    "    ]\n",
    "    current_month - month_names[month_index]\n",
    "\n",
    "    # Filter data for the province and year\n",
    "    filtered = data[(data['province'] == province) & (data['Year'] == year) & (data['month'] == current_month)]\n",
    "\n",
    "    # Return the environmental factor value if found, otherwise a default\n",
    "    if not filtered.empty:\n",
    "        return filtered[column].values[0]\n",
    "    return 0 # Default value if no match found"
   ]
  },
  {
   "cell_type": "code",
   "execution_count": 12,
   "id": "deddf345-1df8-474b-9200-4d0651652f64",
   "metadata": {},
   "outputs": [],
   "source": [
    "# Model parameters\n",
    "params = {\n",
    "    'Lambda_s': 20,  # Sheep birth rate\n",
    "    'mu_s': 0.01,  # Sheep death rate\n",
    "    'beta_sm_0': 0.3,  # Baseline mosquito to sheep transmission rate\n",
    "    'beta_ms_0': 0.2,  # Baseline sheep to mosquito transmission rate\n",
    "    'sigma_s': 0.2,  # Rate of exposed sheep becoming infectious\n",
    "    'gamma_s': 0.1,  # Sheep recovery rate\n",
    "    'mu_m': 0.05,  # Mosquito death rate\n",
    "    'a': 10,  # Scaling factor for rainfall effect on mosquito recruitment\n",
    "    'b': 0.01,  # Scaling factor for humidity effect on beta_sm\n",
    "    'c': 0.01  # Scaling factor for humidity effect on beta_ms\n",
    "}"
   ]
  },
  {
   "cell_type": "code",
   "execution_count": null,
   "id": "01582cbb-e7a9-4cc7-b0a7-ec418bf4508a",
   "metadata": {},
   "outputs": [],
   "source": []
  }
 ],
 "metadata": {
  "kernelspec": {
   "display_name": "Python [conda env:base] *",
   "language": "python",
   "name": "conda-base-py"
  },
  "language_info": {
   "codemirror_mode": {
    "name": "ipython",
    "version": 3
   },
   "file_extension": ".py",
   "mimetype": "text/x-python",
   "name": "python",
   "nbconvert_exporter": "python",
   "pygments_lexer": "ipython3",
   "version": "3.12.7"
  }
 },
 "nbformat": 4,
 "nbformat_minor": 5
}
